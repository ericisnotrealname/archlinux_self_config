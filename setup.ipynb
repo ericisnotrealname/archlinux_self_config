{
 "cells": [
  {
   "cell_type": "code",
   "execution_count": 16,
   "id": "f013beba",
   "metadata": {},
   "outputs": [
    {
     "name": "stdout",
     "output_type": "stream",
     "text": [
      "xwindows:\n",
      "\txorg-server\n",
      "installing: xorg-server\n",
      "\txorg-apps\n",
      "installing: xorg-apps\n",
      "\txorg-xinit\n",
      "installing: xorg-xinit\n",
      "\tlightdm\n",
      "installing: lightdm\n",
      "\tlightdm-gtk-greeter\n",
      "installing: lightdm-gtk-greeter\n",
      "\tlightdm-gtk-greeter-settings\n",
      "installing: lightdm-gtk-greeter-settings\n",
      "\trofi\n",
      "installing: rofi\n",
      "terminal:\n",
      "\talacritty\n",
      "installing: alacritty\n",
      "fonts:\n",
      "\tnoto-fonts-cjk\n",
      "installing: noto-fonts-cjk\n",
      "browser:\n",
      "\tchromium\n",
      "installing: chromium\n"
     ]
    },
    {
     "name": "stderr",
     "output_type": "stream",
     "text": [
      "error: error: you cannot perform this operation unless you are root.\n",
      "you cannot perform this operation unless you are root.\n",
      "error: you cannot perform this operation unless you are root.\n",
      "error: you cannot perform this operation unless you are root.\n",
      "error: you cannot perform this operation unless you are root.\n",
      "error: you cannot perform this operation unless you are root.\n",
      "error: you cannot perform this operation unless you are root.\n",
      "error: you cannot perform this operation unless you are root.\n",
      "error: you cannot perform this operation unless you are root.\n",
      "error: you cannot perform this operation unless you are root.\n"
     ]
    }
   ],
   "source": [
    "#!/usr/bin/python3\n",
    "import os\n",
    "import yaml\n",
    "import logging\n",
    "\n",
    "\n",
    "class Installtion:\n",
    "    def __init__(self, config_file:str):\n",
    "        with open(config_file) as requirements:\n",
    "            self.require_pkgs = yaml.load(requirements, Loader=yaml.FullLoader)\n",
    "\n",
    "    def install_from_dict_value(self, pkg_dict:dict, installing=True):\n",
    "        for pkg_name, pkg in pkg_dict.items():\n",
    "            print(f\"{pkg_name}:\")\n",
    "            if isinstance(pkg, str):\n",
    "                print(f\"\\t{pkg}\")\n",
    "                if installing:\n",
    "#                     print(f\"installing: {pkg}\")\n",
    "                    os.popen(f\"pacman -S {pkg} -y\")\n",
    "            elif isinstance(pkg, dict):\n",
    "                self.install_from_dict_value(pkg_dict=pkg, installing=installing)\n",
    "            elif isinstance(pkg, list):\n",
    "                self.install_from_list_value(pkg_list=pkg, installing=installing)\n",
    "            \n",
    "    def install_from_list_value(self, pkg_list:list, installing=False):\n",
    "        for pkg in pkg_list:\n",
    "            if isinstance(pkg, str):\n",
    "                print(\"\\t%s\"%(pkg))\n",
    "                if installing:\n",
    "#                     print(f\"installing: {pkg}\")\n",
    "                    os.popen(f\"pacman -S {pkg} -y\")\n",
    "            elif isinstance(pkg, list):\n",
    "                self.install_from_list_value(pkg_list=pkg, installing=installing)\n",
    "            elif isinstance(pkg, dict):\n",
    "                self.install_from_list_value(pkg_list=pkg, installing=installing)\n",
    "    \n",
    "    def show_packages(self):\n",
    "        if isinstance(self.require_pkgs, dict):\n",
    "            self.install_from_dict_value(self.require_pkgs, installing=False)\n",
    "        elif isinstance(self.require_pkgs, list):\n",
    "            self.install_from_list_value(self.require_pkgs, installing=False)\n",
    "            \n",
    "    def install_packages(self):\n",
    "        if isinstance(self.require_pkgs, dict):\n",
    "            self.install_from_dict_value(self.require_pkgs, installing=True)\n",
    "        elif isinstance(self.require_pkgs, list):\n",
    "            self.install_from_list_value(self.require_pkgs, installing=True)\n",
    "\n",
    "            \n",
    "installtion = Installtion(\"./requirements.yaml\")\n",
    "installtion.install_packages()"
   ]
  }
 ],
 "metadata": {
  "kernelspec": {
   "display_name": "Python 3 (ipykernel)",
   "language": "python",
   "name": "python3"
  },
  "language_info": {
   "codemirror_mode": {
    "name": "ipython",
    "version": 3
   },
   "file_extension": ".py",
   "mimetype": "text/x-python",
   "name": "python",
   "nbconvert_exporter": "python",
   "pygments_lexer": "ipython3",
   "version": "3.10.9"
  }
 },
 "nbformat": 4,
 "nbformat_minor": 5
}
